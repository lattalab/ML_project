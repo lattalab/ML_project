{
 "cells": [
  {
   "cell_type": "markdown",
   "metadata": {},
   "source": [
    "### youtube downloading"
   ]
  },
  {
   "cell_type": "code",
   "execution_count": 1,
   "metadata": {},
   "outputs": [
    {
     "name": "stdout",
     "output_type": "stream",
     "text": [
      "吉伊卡哇台北華山快閃店第一天！來看看有什麼吧😻\n",
      "51\n",
      "77 Nana\n",
      "https://www.youtube.com/channel/UCzT9FdU98SF8vSrVaNVcBRQ\n",
      "https://i.ytimg.com/vi/3_ptRTVRZyQ/hq720.jpg?sqp=-oaymwEoCIAKENAF8quKqQMcGADwAQH4AbYIgAKAD4oCDAgAEAEYZSBbKEwwDw==&rs=AOn4CLB6LKgfybANAbt5tqp7gb8VKi0oBA\n",
      "12112\n"
     ]
    }
   ],
   "source": [
    "import ssl\n",
    "ssl._create_default_https_context = ssl._create_stdlib_context\n",
    "\n",
    "from pytube import YouTube\n",
    "yt = YouTube('https://www.youtube.com/shorts/3_ptRTVRZyQ')   # 找到的一個吉伊卡哇短影片\n",
    "print(yt.title)           # 影片標題\n",
    "print(yt.length)          # 影片長度 ( 秒 )\n",
    "print(yt.author)          # 影片作者\n",
    "print(yt.channel_url)     # 影片作者頻道網址\n",
    "print(yt.thumbnail_url)   # 影片縮圖網址\n",
    "print(yt.views)           # 影片觀看數"
   ]
  },
  {
   "cell_type": "code",
   "execution_count": 6,
   "metadata": {},
   "outputs": [
    {
     "name": "stdout",
     "output_type": "stream",
     "text": [
      "吉伊卡哇台北華山快閃店第一天！來看看有什麼吧😻\n",
      " ↳ |████████████████████████████████████████████| 100.0%\r"
     ]
    },
    {
     "data": {
      "text/plain": [
       "'d:\\\\Project\\\\Linebot\\\\detect\\\\audio\\\\chiikawa.wav'"
      ]
     },
     "execution_count": 6,
     "metadata": {},
     "output_type": "execute_result"
    }
   ],
   "source": [
    "from pytubefix import YouTube\n",
    "from pytubefix.cli import on_progress\n",
    "\n",
    "url = 'https://www.youtube.com/shorts/3_ptRTVRZyQ'\n",
    "\n",
    "from re import findall\n",
    "if len(findall(\"www.youtube.com\", url)) <= 0 :\n",
    "    print(\"Error: Not a youtube link\")\n",
    "\n",
    "# on_progress 看進度條\n",
    "yt = YouTube(url, on_progress_callback = on_progress)\n",
    "print(yt.title)\n",
    " \n",
    "ys = yt.streams.get_audio_only()    # fetch audio only\n",
    "ys.download(output_path='./audio', filename='chiikawa.wav')"
   ]
  },
  {
   "cell_type": "markdown",
   "metadata": {},
   "source": [
    "### test on speech recognition"
   ]
  },
  {
   "cell_type": "code",
   "execution_count": 3,
   "metadata": {},
   "outputs": [
    {
     "name": "stdout",
     "output_type": "stream",
     "text": [
      "健身環三級考快閃店的一天8點55分到已經一堆人10點半才拿到號碼牌310號並在首張大約下午1點40才正式入倉庫人超級足夠原本以為到我這邊就沒了兔子自己居然有一堆他這麼多的超可愛幫朋友買還問他說要開了都還是沒開因為他說為啥有開後來我買右邊最快很久背包耶\n"
     ]
    }
   ],
   "source": [
    "#轉檔\n",
    "path = './audio/audio_Uabc7eb7cd965db3d0c8780c30227899e.wav'\n",
    "from pydub import AudioSegment\n",
    "import os\n",
    "import speech_recognition as sr\n",
    "AudioSegment.converter = './ffmpeg/ffmpeg/bin/ffmpeg.exe'\n",
    "sound = AudioSegment.from_file_using_temporary_files(path)\n",
    "path = os.path.splitext(path)[0]+'.wav'\n",
    "sound.export(path, format=\"wav\")\n",
    "\n",
    "#辨識\n",
    "r = sr.Recognizer()\n",
    "with sr.AudioFile(path) as source:\n",
    "    audio = r.record(source)\n",
    "\n",
    "text = r.recognize_google(audio, language='zh-TW')\n",
    "print(text)"
   ]
  },
  {
   "cell_type": "markdown",
   "metadata": {},
   "source": [
    "### 切分音檔"
   ]
  },
  {
   "cell_type": "code",
   "execution_count": 9,
   "metadata": {},
   "outputs": [
    {
     "name": "stdout",
     "output_type": "stream",
     "text": [
      "Exported ./split_audio/chunk_0.wav\n",
      "Exported ./split_audio/chunk_1.wav\n",
      "Exported ./split_audio/chunk_2.wav\n",
      "Exported ./split_audio/chunk_3.wav\n",
      "Exported ./split_audio/chunk_4.wav\n",
      "Exported ./split_audio/chunk_5.wav\n",
      "Exported ./split_audio/chunk_6.wav\n",
      "['./split_audio/chunk_0.wav', './split_audio/chunk_1.wav', './split_audio/chunk_2.wav', './split_audio/chunk_3.wav', './split_audio/chunk_4.wav', './split_audio/chunk_5.wav', './split_audio/chunk_6.wav']\n"
     ]
    }
   ],
   "source": [
    "import os\n",
    "from pydub import AudioSegment\n",
    "from pydub.utils import make_chunks\n",
    "\n",
    "# 設定 ffmpeg 轉換器的路徑\n",
    "AudioSegment.converter = './ffmpeg/ffmpeg/bin/ffmpeg.exe'\n",
    "\n",
    "def split_audio(audio_path, chunk_length_ms=10000):\n",
    "    \"\"\"將音訊檔案分割成小片段\"\"\"\n",
    "    audio = AudioSegment.from_file_using_temporary_files(audio_path)\n",
    "    chunks = make_chunks(audio, chunk_length_ms)  # 使用 make_chunks 來分割音訊\n",
    "    chunk_files = []\n",
    "    for i, chunk in enumerate(chunks):\n",
    "        chunk_name = (f\"./split_audio/chunk_{i}.wav\")\n",
    "        chunk.export(chunk_name, format=\"wav\")\n",
    "        chunk_files.append(chunk_name)\n",
    "        print(f\"Exported {chunk_name}\")\n",
    "    return chunk_files\n",
    "\n",
    "# 測試分割函數\n",
    "audio_file_path = './audio/audio_Uabc7eb7cd965db3d0c8780c30227899e.wav'\n",
    "chunk_files = split_audio(audio_file_path)\n",
    "print(chunk_files)"
   ]
  },
  {
   "cell_type": "code",
   "execution_count": 13,
   "metadata": {},
   "outputs": [
    {
     "name": "stdout",
     "output_type": "stream",
     "text": [
      "./split_audio/chunk_0.wav\n",
      "./split_audio/chunk_1.wav\n",
      "./split_audio/chunk_2.wav\n",
      "./split_audio/chunk_3.wav\n",
      "./split_audio/chunk_4.wav\n",
      "./split_audio/chunk_5.wav\n",
      "./split_audio/chunk_6.wav\n",
      "the government's position has not changednow recognized by over 5000 plus institutions the debt can be taken at any time anywhere and it costs just one third of the otherplay test certify your English today with the Duolingo English test\n"
     ]
    }
   ],
   "source": [
    "#辨識\n",
    "r = sr.Recognizer()\n",
    "text = \"\"\n",
    "for path_i in chunk_files:\n",
    "    print(path_i)\n",
    "    with sr.AudioFile(path_i) as source:\n",
    "        audio = r.record(source)\n",
    "    try:\n",
    "        text += r.recognize_google(audio, language='en-US')\n",
    "    except:             # 有時候語音太模糊會無法辨識\n",
    "        # text = \"發生了一些錯誤，無法辨識。\"\n",
    "        # break\n",
    "        pass\n",
    "\n",
    "print(text)"
   ]
  },
  {
   "cell_type": "code",
   "execution_count": null,
   "metadata": {},
   "outputs": [],
   "source": []
  }
 ],
 "metadata": {
  "kernelspec": {
   "display_name": "pytorch",
   "language": "python",
   "name": "python3"
  },
  "language_info": {
   "codemirror_mode": {
    "name": "ipython",
    "version": 3
   },
   "file_extension": ".py",
   "mimetype": "text/x-python",
   "name": "python",
   "nbconvert_exporter": "python",
   "pygments_lexer": "ipython3",
   "version": "3.9.18"
  }
 },
 "nbformat": 4,
 "nbformat_minor": 2
}
