{
 "cells": [
  {
   "cell_type": "markdown",
   "metadata": {},
   "source": [
    "### Simple Setup"
   ]
  },
  {
   "cell_type": "code",
   "execution_count": 1,
   "metadata": {},
   "outputs": [],
   "source": [
    "import google.generativeai as genai # use gemini\n",
    "from dotenv import load_dotenv  # environment variable\n",
    "import os\n",
    "\n",
    "# ADD gemini api key\n",
    "gemini = os.getenv('GEMINI_API_KEY')"
   ]
  },
  {
   "cell_type": "code",
   "execution_count": 2,
   "metadata": {
    "vscode": {
     "languageId": "powershell"
    }
   },
   "outputs": [
    {
     "name": "stdout",
     "output_type": "stream",
     "text": [
      "^C\n"
     ]
    }
   ],
   "source": [
    "!gcloud auth application-default login \\\n",
    "    --client-id-file=client_secret.json \\\n",
    "    --scopes=\"https://www.googleapis.com/auth/cloud-platform,https://www.googleapis.com/auth/generative-language.retriever,https://www.googleapis.com/auth/cloud-platform,https://www.googleapis.com/auth/generative-language.tuning\""
   ]
  },
  {
   "cell_type": "code",
   "execution_count": 3,
   "metadata": {},
   "outputs": [
    {
     "name": "stdout",
     "output_type": "stream",
     "text": [
      "Available base models: ['models/chat-bison-001', 'models/text-bison-001', 'models/embedding-gecko-001', 'models/gemini-1.0-pro-latest', 'models/gemini-1.0-pro', 'models/gemini-pro', 'models/gemini-1.0-pro-001', 'models/gemini-1.0-pro-vision-latest', 'models/gemini-pro-vision', 'models/gemini-1.5-pro-latest', 'models/gemini-1.5-pro-001', 'models/gemini-1.5-pro', 'models/gemini-1.5-pro-exp-0801', 'models/gemini-1.5-flash-latest', 'models/gemini-1.5-flash-001', 'models/gemini-1.5-flash', 'models/gemini-1.5-flash-001-tuning', 'models/embedding-001', 'models/text-embedding-004', 'models/aqa']\n"
     ]
    }
   ],
   "source": [
    "print('Available base models:', [m.name for m in genai.list_models()])"
   ]
  },
  {
   "cell_type": "markdown",
   "metadata": {},
   "source": [
    "### Test Prompt engineering"
   ]
  },
  {
   "cell_type": "code",
   "execution_count": 4,
   "metadata": {},
   "outputs": [
    {
     "name": "stdout",
     "output_type": "stream",
     "text": [
      "## 詐騙分析報告\n",
      "\n",
      "**1. 摘要:**\n",
      "\n",
      "一名73歲陳姓老先生透過網路交友認識一名自稱在葉門的戰地女軍官 Seo Garden 的「乾女兒」，並使用 Line 聯繫。該名「乾女兒」聲稱擁有一筆 500 萬美元的資金，想匯給陳先生，但要求陳先生先到超商購買遊戲點數才能收到資金。\n",
      "\n",
      "**2. 詐騙可能性:**\n",
      "\n",
      "極高\n",
      "\n",
      "**3. 詐騙類型:**\n",
      "\n",
      "愛情詐騙 / 假冒軍人詐騙 / 投資詐騙\n",
      "\n",
      "**4. 分析理由:**\n",
      "\n",
      "* **愛情詐騙:** 詐騙者以虛假身分（戰地女軍官）與被害人建立感情關係，博取信任。\n",
      "* **假冒軍人詐騙:**  詐騙者以軍人身分作為掩護，製造緊迫感，並以此要求被害人進行資金操作。\n",
      "* **投資詐騙:** 詐騙者以高額報酬為誘餌，要求被害人進行虛假投資，藉此騙取財物。\n",
      "\n",
      "**5. 防範措施:**\n",
      "\n",
      "* **保持警惕:** 網路上認識的人，尤其是自稱在國外或特殊職業的人，應格外小心。\n",
      "* **不輕易相信陌生人:** 勿輕易將個人資訊透露給陌生人，更不要隨意匯款給對方。\n",
      "* **核實對方身分:** 可以透過網路搜尋或其他管道，核實對方的真實身分。\n",
      "* **勿輕信高額報酬:** 凡是宣稱高額報酬或快速致富的投資方案，都應提高警覺。\n",
      "* **可向相關單位諮詢:**  若對網路交友或投資有疑慮，可向警政單位或相關機構諮詢。\n",
      "\n",
      "**6. 結論:**\n",
      "\n",
      "此案例典型詐騙手法，詐騙者利用被害人對愛情、信任和利益的渴望，以虛假身份和高額報酬為餌，誘使被害人進行資金操作，最終騙取財物。請務必提高警覺，避免落入詐騙陷阱。\n",
      "\n"
     ]
    }
   ],
   "source": [
    "# Access your API key as an environment variable.\n",
    "genai.configure(api_key=gemini)\n",
    "# Choose a model that's appropriate for your use case.\n",
    "model = genai.GenerativeModel('gemini-1.5-flash')\n",
    "\n",
    "prompt = \"\"\"I need assistance in analyzing text for scam detection. \n",
    "    The response should include a structured analysis report which was divided into 6 parts: \n",
    "    giving a brief summary for given input text, indicating the likelihood of a scam \n",
    "    ,denoting which type of scam it is and analyzing the reason by point \n",
    "    ,giving some preventional advise and last give a simple conclusion.\n",
    "    Please ensure that the response follows the specified structure for ease of parsing and integration with the application.\n",
    "    You need to reply in traditional chinese in default.\n",
    "    input text: 一名73歲陳姓老先生透過網路交友，並用Line聯繫認識一名乾女兒，其身分是在葉門的戰地女軍官Seo Garden。乾女兒稱有一筆美金500萬元的資金，想要匯給陳姓老先生，但陳男必須先到超商購買遊戲點數，始可以收到該筆資金。\"\"\"\n",
    "\n",
    "response = model.generate_content(prompt)\n",
    "\n",
    "print(response.text)"
   ]
  },
  {
   "cell_type": "markdown",
   "metadata": {},
   "source": [
    "Update-0823 for sending audio directly to `Gemini`"
   ]
  },
  {
   "cell_type": "code",
   "execution_count": 8,
   "metadata": {},
   "outputs": [
    {
     "name": "stdout",
     "output_type": "stream",
     "text": [
      "The government's position has not changed. \n",
      "\n"
     ]
    }
   ],
   "source": [
    "import pathlib\n",
    "# Initialize a Gemini model appropriate for your use case.\n",
    "model = genai.GenerativeModel(model_name=\"gemini-1.5-flash\")\n",
    "\n",
    "# Create the prompt.\n",
    "prompt = \"Generate a transcript of the speech.\"\n",
    "\n",
    "# Pass the prompt and the audio file to Gemini.\n",
    "audio_file = \"./audio/audio_Uabc7eb7cd965db3d0c8780c30227899e.wav\"\n",
    "response = model.generate_content([\n",
    "    prompt,\n",
    "    {\n",
    "        \"mime_type\": \"audio/wav\",\n",
    "        \"data\": pathlib.Path(audio_file).read_bytes()\n",
    "    }\n",
    "])\n",
    "\n",
    "# Print the transcript.\n",
    "print(response.text)"
   ]
  },
  {
   "cell_type": "markdown",
   "metadata": {},
   "source": [
    "對於英文語音很準，但中文這邊怪怪的??  \n",
    "已知雜音會影響  \n",
    "但是大部分是準的 我認為可以繼續用"
   ]
  },
  {
   "cell_type": "code",
   "execution_count": 11,
   "metadata": {},
   "outputs": [
    {
     "name": "stdout",
     "output_type": "stream",
     "text": [
      "当你走在迷迷的森林中 你可以听到树叶轻轻地摇曳着 伴随著微风 的吹拂 哔 \n"
     ]
    }
   ],
   "source": [
    "import pathlib\n",
    "# Initialize a Gemini model appropriate for your use case.\n",
    "model = genai.GenerativeModel(model_name=\"gemini-1.5-flash\")\n",
    "\n",
    "# Create the prompt.\n",
    "prompt = \"Generate a transcript of the speech.\"\n",
    "\n",
    "# Pass the prompt and the audio file to Gemini.\n",
    "audio_file = \"./audio/output (1).wav\"\n",
    "response = model.generate_content([\n",
    "    prompt,\n",
    "    {\n",
    "        \"mime_type\": \"audio/wav\",\n",
    "        \"data\": pathlib.Path(audio_file).read_bytes()\n",
    "    }\n",
    "])\n",
    "\n",
    "# Print the transcript.\n",
    "print(response.text)"
   ]
  },
  {
   "cell_type": "markdown",
   "metadata": {},
   "source": [
    "### test speech recognition"
   ]
  },
  {
   "cell_type": "code",
   "execution_count": null,
   "metadata": {},
   "outputs": [],
   "source": [
    "import speech_recognition as sr\n",
    "from pydub import AudioSegment\n",
    "import os\n",
    "path = './LA_E_1000989.flac'\n",
    "\n",
    "#轉檔\n",
    "AudioSegment.converter = './ffmpeg/ffmpeg/bin/ffmpeg.exe'\n",
    "sound = AudioSegment.from_file_using_temporary_files(path)\n",
    "path = os.path.splitext(path)[0]+'.wav'\n",
    "sound.export(path, format=\"wav\")\n",
    "\n",
    "#辨識\n",
    "r = sr.Recognizer()\n",
    "with sr.AudioFile(path) as source:\n",
    "    audio = r.record(source)\n",
    "text = r.recognize_google(audio)\n",
    "print(text)"
   ]
  },
  {
   "cell_type": "markdown",
   "metadata": {},
   "source": [
    "* Try finetune  \n",
    "ref: https://github.com/pj8912/gemini-summarization-fine-tuning/blob/main/fine-tune.ipynb"
   ]
  },
  {
   "cell_type": "markdown",
   "metadata": {},
   "source": [
    "\n",
    "gRPC 是一種高效、跨平台的開源遠程過程調用（RPC）框架，由 Google 開發。它使得客戶端應用可以直接調用位於不同服務器上的服務方法，就像調用本地對象一樣，而無需考慮網絡細節。\n",
    "\n",
    "**gRPC 的關鍵特性**\n",
    "1. 高性能：gRPC 基於 HTTP/2 協議，支持多路復用和雙向流，並使用 Protocol Buffers（Protobuf）作為其接口定義語言和數據序列化格式，這使得它比傳統的 HTTP/REST 更高效。\n",
    "\n",
    "2. 多語言支持：gRPC 支持多種編程語言，包括 C++, Java, Python, Go, Ruby, C#, Node.js 等。這使得開發者可以在不同平台和語言環境中無縫集成 gRPC。\n",
    "\n",
    "3. 雙向流式通信：gRPC 支持雙向流式通信，客戶端和服務器可以在同一個連接上同時發送和接收消息，這對於實時應用非常有用。\n",
    "\n",
    "4. 自動生成代碼：gRPC 提供工具可以自動從 Protobuf 文件生成客戶端和服務器的代碼，大大減少了開發工作量並降低了出錯的風險。\n",
    "\n",
    "5. 強類型接口：通過 Protobuf 定義的服務接口是強類型的，這樣可以在編譯時就發現潛在的錯誤，提高代碼的健壯性。"
   ]
  },
  {
   "cell_type": "code",
   "execution_count": 7,
   "metadata": {},
   "outputs": [],
   "source": [
    "genai.configure(api_key=gemini ,transport='grpc')"
   ]
  },
  {
   "cell_type": "markdown",
   "metadata": {},
   "source": [
    "* 讀取數據  \n",
    "google sheet轉成csv會跑檔，於是改用excel"
   ]
  },
  {
   "cell_type": "code",
   "execution_count": null,
   "metadata": {},
   "outputs": [
    {
     "name": "stdout",
     "output_type": "stream",
     "text": [
      "Requirement already satisfied: openpyxl in d:\\ancode\\envs\\pytorch\\lib\\site-packages (3.1.5)\n",
      "Requirement already satisfied: et-xmlfile in d:\\ancode\\envs\\pytorch\\lib\\site-packages (from openpyxl) (1.1.0)\n"
     ]
    }
   ],
   "source": [
    "!pip install openpyxl"
   ]
  },
  {
   "cell_type": "code",
   "execution_count": 9,
   "metadata": {},
   "outputs": [
    {
     "data": {
      "text/html": [
       "<div>\n",
       "<style scoped>\n",
       "    .dataframe tbody tr th:only-of-type {\n",
       "        vertical-align: middle;\n",
       "    }\n",
       "\n",
       "    .dataframe tbody tr th {\n",
       "        vertical-align: top;\n",
       "    }\n",
       "\n",
       "    .dataframe thead th {\n",
       "        text-align: right;\n",
       "    }\n",
       "</style>\n",
       "<table border=\"1\" class=\"dataframe\">\n",
       "  <thead>\n",
       "    <tr style=\"text-align: right;\">\n",
       "      <th></th>\n",
       "      <th>Input</th>\n",
       "      <th>Excepted Output</th>\n",
       "      <th>來源</th>\n",
       "      <th>類別</th>\n",
       "      <th>Unnamed: 4</th>\n",
       "    </tr>\n",
       "  </thead>\n",
       "  <tbody>\n",
       "    <tr>\n",
       "      <th>0</th>\n",
       "      <td>【國泰金融】提醒您已獲10-300萬新台幣借款資格。每一萬塊月利息只需60塊。月繳無壓力！無...</td>\n",
       "      <td>詐騙分析報告\\n一、 摘要\\n該訊息宣稱國泰金融提供高額低息貸款，無需任何手續費，並強調快速...</td>\n",
       "      <td>hackmd</td>\n",
       "      <td>詐騙</td>\n",
       "      <td>NaN</td>\n",
       "    </tr>\n",
       "    <tr>\n",
       "      <th>1</th>\n",
       "      <td>【 永豐信貸 】提醒您已獲10-300萬新台幣借款資格。每一萬塊月利息只需30塊。月繳無壓力...</td>\n",
       "      <td>詐騙分析報告\\n\\n一、 內容摘要\\n這是一則來自「永豐信貸」的訊息，宣稱用戶已獲得10萬至...</td>\n",
       "      <td>hackmd</td>\n",
       "      <td>詐騙</td>\n",
       "      <td>NaN</td>\n",
       "    </tr>\n",
       "    <tr>\n",
       "      <th>2</th>\n",
       "      <td>【衛生福利部】您符合條件可提領兩萬元防疫津貼，疫情期間線上申請，複製鏈接到瀏覽器https:...</td>\n",
       "      <td>詐騙分析報告\\n一、 文本摘要：\\n\\n此訊息聲稱來自衛生福利部，並告知您符合資格可以領取兩...</td>\n",
       "      <td>hackmd</td>\n",
       "      <td>詐騙</td>\n",
       "      <td>NaN</td>\n",
       "    </tr>\n",
       "    <tr>\n",
       "      <th>3</th>\n",
       "      <td>hi 我是元大綜合證券投信的陳佳慧 電話聯絡過您多次 有急事找你麻煩加我一下賴ID ：C66...</td>\n",
       "      <td>詐騙分析報告\\n一、 簡要摘要：\\n\\n這是一封可疑的聲稱來自元大綜合證券投信的簡訊，要求收...</td>\n",
       "      <td>hackmd</td>\n",
       "      <td>詐騙</td>\n",
       "      <td>NaN</td>\n",
       "    </tr>\n",
       "    <tr>\n",
       "      <th>4</th>\n",
       "      <td>快递已邮寄请您及时查收.http://nasyg.xyz</td>\n",
       "      <td>詐騙分析報告\\n一、 簡要摘要：\\n\\n這是一封以簡體字傳送的可疑郵件，內容為告知快遞到了並...</td>\n",
       "      <td>hackmd</td>\n",
       "      <td>詐騙</td>\n",
       "      <td>NaN</td>\n",
       "    </tr>\n",
       "  </tbody>\n",
       "</table>\n",
       "</div>"
      ],
      "text/plain": [
       "                                               Input  \\\n",
       "0  【國泰金融】提醒您已獲10-300萬新台幣借款資格。每一萬塊月利息只需60塊。月繳無壓力！無...   \n",
       "1  【 永豐信貸 】提醒您已獲10-300萬新台幣借款資格。每一萬塊月利息只需30塊。月繳無壓力...   \n",
       "2  【衛生福利部】您符合條件可提領兩萬元防疫津貼，疫情期間線上申請，複製鏈接到瀏覽器https:...   \n",
       "3  hi 我是元大綜合證券投信的陳佳慧 電話聯絡過您多次 有急事找你麻煩加我一下賴ID ：C66...   \n",
       "4                       快递已邮寄请您及时查收.http://nasyg.xyz   \n",
       "\n",
       "                                     Excepted Output      來源  類別 Unnamed: 4  \n",
       "0  詐騙分析報告\\n一、 摘要\\n該訊息宣稱國泰金融提供高額低息貸款，無需任何手續費，並強調快速...  hackmd  詐騙        NaN  \n",
       "1  詐騙分析報告\\n\\n一、 內容摘要\\n這是一則來自「永豐信貸」的訊息，宣稱用戶已獲得10萬至...  hackmd  詐騙        NaN  \n",
       "2  詐騙分析報告\\n一、 文本摘要：\\n\\n此訊息聲稱來自衛生福利部，並告知您符合資格可以領取兩...  hackmd  詐騙        NaN  \n",
       "3  詐騙分析報告\\n一、 簡要摘要：\\n\\n這是一封可疑的聲稱來自元大綜合證券投信的簡訊，要求收...  hackmd  詐騙        NaN  \n",
       "4  詐騙分析報告\\n一、 簡要摘要：\\n\\n這是一封以簡體字傳送的可疑郵件，內容為告知快遞到了並...  hackmd  詐騙        NaN  "
      ]
     },
     "execution_count": 9,
     "metadata": {},
     "output_type": "execute_result"
    }
   ],
   "source": [
    "import pandas as pd\n",
    "# 需要有相依套件 openpyxl\n",
    "df = pd.read_excel('Gemini_finetune_dataset.xlsx')\n",
    "df.head()   # check the first 5 rows"
   ]
  },
  {
   "cell_type": "code",
   "execution_count": 10,
   "metadata": {},
   "outputs": [
    {
     "name": "stdout",
     "output_type": "stream",
     "text": [
      "{'text_input': '【國泰金融】提醒您已獲10-300萬新台幣借款資格。每一萬塊月利息只需60塊。月繳無壓力！無需照會，無需保人，沒有手續費。當天辦理當天入賬！20年網絡口碑第一貸款公司。添加信貸專員LINE： dy88672免費咨詢改善財務問題', 'output': '詐騙分析報告\\n一、 摘要\\n該訊息宣稱國泰金融提供高額低息貸款，無需任何手續費，並強調快速撥款。但內容充滿誇大不實之處，且要求加LINE進行諮詢，極具詐騙嫌疑。\\n\\n二、 詐騙可能性：極高\\n三、 詐騙類型：假冒金融機構詐騙\\n四、 分析原因：\\n誇大不實的貸款條件： 宣稱高額貸款、低利息、無需手續費，且當天撥款，此類條件過於優渥，現實中幾乎不可能。\\n要求加LINE私下洽談： 正式金融機構不會透過LINE等私人管道進行貸款諮詢或辦理相關手續。\\n無任何官方資訊佐證： 訊息中未提供任何官方網站、客服電話等可供查證的資訊。\\n強調多年口碑： 詐騙集團常利用「多年口碑」等詞語營造可信度，但實際上並無佐證。\\n五、 防範建議：\\n不輕信來路不明訊息： 對於網路上或手機收到的貸款訊息，務必提高警覺，不要輕易相信。\\n透過官方管道查詢： 如有貸款需求，應透過金融機構的官方網站或客服電話進行查詢。\\n不提供個人資料給陌生人： 不要將個人身份證字號、銀行帳戶等敏感資訊提供給陌生人。\\n不點擊不明連結或掃描QR code： 這些連結或QR code可能帶有惡意程式，竊取您的個人資訊。\\n六、 結論\\n該訊息具有明顯的詐騙特徵，民眾應提高警覺，切勿受騙。若收到類似訊息，建議直接刪除，並向相關單位通報。\\n\\n提醒： 正式金融機構不會透過LINE、微信等私人管道進行貸款諮詢或辦理相關手續。如需辦理貸款，請務必親臨銀行分行或透過官方網站查詢。'}\n",
      "{'text_input': '【 永豐信貸 】提醒您已獲10-300萬新台幣借款資格。每一萬塊月利息只需30塊。月繳無壓力！無需照會，無需保人，沒有手續費。當天辦理當天入賬！20年網絡口碑第一貸款公司。添加信貸專員免費咨詢改善財務問題LINE：zsd3829', 'output': '詐騙分析報告\\n\\n一、 內容摘要\\n這是一則來自「永豐信貸」的訊息，宣稱用戶已獲得10萬至300萬新台幣的借款資格，並強調低利息、無需照會、無需保人等優勢，鼓勵用戶添加LINE諮詢。\\n\\n二、 詐騙可能性：極高\\n\\n三、 詐騙類型：網路貸款詐騙\\n\\n四、 分析原因：\\n\\n條件過於優渥： 貸款額度高、利率低、手續簡便，遠低於一般金融機構的貸款條件，過於理想化。\\n強調無需照會、無需保人： 正規金融機構的貸款通常需要審核個人信用狀況，並可能要求提供擔保。完全無需照會、無需保人的貸款極不合理。\\n強調當天辦理、當天入賬： 正規貸款流程需要一定的時間，不可能當天辦理當天入賬。\\n僅提供LINE諮詢： 正規金融機構的貸款諮詢通常會提供電話、官網等多種管道，僅提供LINE諮詢容易隱藏身份，增加詐騙風險。\\n強調網路口碑第一： 這種說法缺乏客觀證據，且容易誤導消費者。\\n五、 防範建議：\\n\\n不輕信來路不明的訊息： 對於突然收到的貸款訊息，尤其是強調條件過於優渥的，務必提高警惕。\\n透過官方管道查詢： 如有貸款需求，應透過銀行或金融機構的官方網站或客服電話查詢，不要輕信網路或簡訊訊息。\\n不要隨意提供個人資料： 不要將個人身份證字號、銀行帳戶等敏感資訊提供給陌生人。\\n不要點擊不明連結： 不要點擊訊息中的不明連結，以免下載惡意程式或洩露個人資訊。\\n六、 結論\\n\\n這則訊息極具詐騙特徵，常見於網路貸款詐騙。詐騙集團通常會以低利率、快速撥款等優勢吸引民眾，進而騙取個人資料或金錢。民眾應提高警覺，不要輕易相信此類訊息，以免遭受財產損失。\\n\\n提醒：\\n\\n如有疑問，可撥打165反詐騙諮詢專線查證。\\n建議將此類訊息截圖並保存，以便向相關單位舉報。\\n總結： 這是一起典型的網路貸款詐騙案例，民眾應加強防範意識，避免落入詐騙陷阱。'}\n"
     ]
    }
   ],
   "source": [
    "training_data = []\n",
    "for index, row in df.iterrows():\n",
    "    training_data.append(\n",
    "                        {'text_input': str(row['Input']), \n",
    "                          'output': str(row['Excepted Output'])}\n",
    "                          )\n",
    "    \n",
    "print(training_data[0])\n",
    "print(training_data[1])"
   ]
  },
  {
   "cell_type": "markdown",
   "metadata": {},
   "source": [
    "To discover model that can create finetuning model"
   ]
  },
  {
   "cell_type": "code",
   "execution_count": 11,
   "metadata": {},
   "outputs": [
    {
     "name": "stdout",
     "output_type": "stream",
     "text": [
      "Available base models: ['models/gemini-1.0-pro-001', 'models/gemini-1.5-flash-001-tuning']\n"
     ]
    }
   ],
   "source": [
    "base_model = [\n",
    "    m for m in genai.list_models()\n",
    "    if \"createTunedModel\" in m.supported_generation_methods]\n",
    "\n",
    "print('Available base models:', [m.name for m in base_model])"
   ]
  },
  {
   "cell_type": "markdown",
   "metadata": {},
   "source": [
    "* 先處理憑證問題，不然不能finetune"
   ]
  },
  {
   "cell_type": "code",
   "execution_count": null,
   "metadata": {
    "vscode": {
     "languageId": "powershell"
    }
   },
   "outputs": [
    {
     "name": "stdout",
     "output_type": "stream",
     "text": [
      "Requirement already satisfied: google-generativeai in d:\\ancode\\envs\\pytorch\\lib\\site-packages (0.7.2)\n",
      "Requirement already satisfied: google-ai-generativelanguage==0.6.6 in d:\\ancode\\envs\\pytorch\\lib\\site-packages (from google-generativeai) (0.6.6)\n",
      "Requirement already satisfied: google-api-core in d:\\ancode\\envs\\pytorch\\lib\\site-packages (from google-generativeai) (2.19.1)\n",
      "Requirement already satisfied: google-api-python-client in d:\\ancode\\envs\\pytorch\\lib\\site-packages (from google-generativeai) (2.140.0)\n",
      "Requirement already satisfied: google-auth>=2.15.0 in d:\\ancode\\envs\\pytorch\\lib\\site-packages (from google-generativeai) (2.32.0)\n",
      "Requirement already satisfied: protobuf in d:\\ancode\\envs\\pytorch\\lib\\site-packages (from google-generativeai) (4.25.3)\n",
      "Requirement already satisfied: pydantic in d:\\ancode\\envs\\pytorch\\lib\\site-packages (from google-generativeai) (2.8.2)\n",
      "Requirement already satisfied: tqdm in d:\\ancode\\envs\\pytorch\\lib\\site-packages (from google-generativeai) (4.66.4)\n",
      "Requirement already satisfied: typing-extensions in d:\\ancode\\envs\\pytorch\\lib\\site-packages (from google-generativeai) (4.9.0)\n",
      "Requirement already satisfied: proto-plus<2.0.0dev,>=1.22.3 in d:\\ancode\\envs\\pytorch\\lib\\site-packages (from google-ai-generativelanguage==0.6.6->google-generativeai) (1.24.0)\n",
      "Requirement already satisfied: googleapis-common-protos<2.0.dev0,>=1.56.2 in d:\\ancode\\envs\\pytorch\\lib\\site-packages (from google-api-core->google-generativeai) (1.63.2)\n",
      "Requirement already satisfied: requests<3.0.0.dev0,>=2.18.0 in d:\\ancode\\envs\\pytorch\\lib\\site-packages (from google-api-core->google-generativeai) (2.31.0)\n",
      "Requirement already satisfied: cachetools<6.0,>=2.0.0 in d:\\ancode\\envs\\pytorch\\lib\\site-packages (from google-auth>=2.15.0->google-generativeai) (5.4.0)\n",
      "Requirement already satisfied: pyasn1-modules>=0.2.1 in d:\\ancode\\envs\\pytorch\\lib\\site-packages (from google-auth>=2.15.0->google-generativeai) (0.4.0)\n",
      "Requirement already satisfied: rsa<5,>=3.1.4 in d:\\ancode\\envs\\pytorch\\lib\\site-packages (from google-auth>=2.15.0->google-generativeai) (4.9)\n",
      "Requirement already satisfied: httplib2<1.dev0,>=0.19.0 in d:\\ancode\\envs\\pytorch\\lib\\site-packages (from google-api-python-client->google-generativeai) (0.22.0)\n",
      "Requirement already satisfied: google-auth-httplib2<1.0.0,>=0.2.0 in d:\\ancode\\envs\\pytorch\\lib\\site-packages (from google-api-python-client->google-generativeai) (0.2.0)\n",
      "Requirement already satisfied: uritemplate<5,>=3.0.1 in d:\\ancode\\envs\\pytorch\\lib\\site-packages (from google-api-python-client->google-generativeai) (4.1.1)\n",
      "Requirement already satisfied: annotated-types>=0.4.0 in d:\\ancode\\envs\\pytorch\\lib\\site-packages (from pydantic->google-generativeai) (0.7.0)\n",
      "Requirement already satisfied: pydantic-core==2.20.1 in d:\\ancode\\envs\\pytorch\\lib\\site-packages (from pydantic->google-generativeai) (2.20.1)\n",
      "Requirement already satisfied: colorama in d:\\ancode\\envs\\pytorch\\lib\\site-packages (from tqdm->google-generativeai) (0.4.6)\n",
      "Requirement already satisfied: grpcio<2.0dev,>=1.33.2 in d:\\ancode\\envs\\pytorch\\lib\\site-packages (from google-api-core[grpc]!=2.0.*,!=2.1.*,!=2.10.*,!=2.2.*,!=2.3.*,!=2.4.*,!=2.5.*,!=2.6.*,!=2.7.*,!=2.8.*,!=2.9.*,<3.0.0dev,>=1.34.1->google-ai-generativelanguage==0.6.6->google-generativeai) (1.65.1)\n",
      "Requirement already satisfied: grpcio-status<2.0.dev0,>=1.33.2 in d:\\ancode\\envs\\pytorch\\lib\\site-packages (from google-api-core[grpc]!=2.0.*,!=2.1.*,!=2.10.*,!=2.2.*,!=2.3.*,!=2.4.*,!=2.5.*,!=2.6.*,!=2.7.*,!=2.8.*,!=2.9.*,<3.0.0dev,>=1.34.1->google-ai-generativelanguage==0.6.6->google-generativeai) (1.62.2)\n",
      "Requirement already satisfied: pyparsing!=3.0.0,!=3.0.1,!=3.0.2,!=3.0.3,<4,>=2.4.2 in d:\\ancode\\envs\\pytorch\\lib\\site-packages (from httplib2<1.dev0,>=0.19.0->google-api-python-client->google-generativeai) (3.1.2)\n",
      "Requirement already satisfied: pyasn1<0.7.0,>=0.4.6 in d:\\ancode\\envs\\pytorch\\lib\\site-packages (from pyasn1-modules>=0.2.1->google-auth>=2.15.0->google-generativeai) (0.6.0)\n",
      "Requirement already satisfied: charset-normalizer<4,>=2 in d:\\ancode\\envs\\pytorch\\lib\\site-packages (from requests<3.0.0.dev0,>=2.18.0->google-api-core->google-generativeai) (2.0.4)\n",
      "Requirement already satisfied: idna<4,>=2.5 in d:\\ancode\\envs\\pytorch\\lib\\site-packages (from requests<3.0.0.dev0,>=2.18.0->google-api-core->google-generativeai) (3.4)\n",
      "Requirement already satisfied: urllib3<3,>=1.21.1 in d:\\ancode\\envs\\pytorch\\lib\\site-packages (from requests<3.0.0.dev0,>=2.18.0->google-api-core->google-generativeai) (2.1.0)\n",
      "Requirement already satisfied: certifi>=2017.4.17 in d:\\ancode\\envs\\pytorch\\lib\\site-packages (from requests<3.0.0.dev0,>=2.18.0->google-api-core->google-generativeai) (2024.7.4)\n"
     ]
    }
   ],
   "source": [
    "!pip install --upgrade -q google-api-python-client google-auth-httplib2 google-auth-oauthlib\n",
    "!pip install google-generativeai"
   ]
  },
  {
   "cell_type": "markdown",
   "metadata": {},
   "source": [
    "Start to finetuning"
   ]
  },
  {
   "cell_type": "code",
   "execution_count": 13,
   "metadata": {},
   "outputs": [],
   "source": [
    "name = 'Connected with Linebot v1'"
   ]
  },
  {
   "cell_type": "code",
   "execution_count": null,
   "metadata": {},
   "outputs": [],
   "source": [
    "operation = genai.create_tuned_model(\n",
    "    source_model=base_model[0].name,    # select the supported model   \n",
    "    training_data=training_data, \n",
    "    id=name,    # your model name\n",
    "    epoch_count=50,\n",
    "    batch_size=20,\n",
    "    learning_rate=0.01\n",
    ")"
   ]
  },
  {
   "cell_type": "code",
   "execution_count": null,
   "metadata": {},
   "outputs": [],
   "source": []
  }
 ],
 "metadata": {
  "kernelspec": {
   "display_name": "pytorch",
   "language": "python",
   "name": "python3"
  },
  "language_info": {
   "codemirror_mode": {
    "name": "ipython",
    "version": 3
   },
   "file_extension": ".py",
   "mimetype": "text/x-python",
   "name": "python",
   "nbconvert_exporter": "python",
   "pygments_lexer": "ipython3",
   "version": "3.9.18"
  }
 },
 "nbformat": 4,
 "nbformat_minor": 2
}
