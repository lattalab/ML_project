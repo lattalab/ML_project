{
 "cells": [
  {
   "cell_type": "markdown",
   "metadata": {},
   "source": [
    "### Simple Setup"
   ]
  },
  {
   "cell_type": "code",
   "execution_count": 1,
   "metadata": {},
   "outputs": [],
   "source": [
    "import google.generativeai as genai # use gemini\n",
    "from dotenv import load_dotenv  # environment variable\n",
    "import os\n",
    "\n",
    "# ADD gemini api key\n",
    "gemini = os.getenv('GEMINI_API_KEY')"
   ]
  },
  {
   "cell_type": "code",
   "execution_count": 2,
   "metadata": {},
   "outputs": [
    {
     "name": "stderr",
     "output_type": "stream",
     "text": [
      "'gcloud' ���O�����Υ~���R�O�B�i���檺�{���Χ妸�ɡC\n"
     ]
    }
   ],
   "source": [
    "!gcloud auth application-default login \\\n",
    "    --client-id-file=client_secret.json \\\n",
    "    --scopes='https://www.googleapis.com/auth/cloud-platform,https://www.googleapis.com/auth/generative-language.retriever'"
   ]
  },
  {
   "cell_type": "code",
   "execution_count": 3,
   "metadata": {},
   "outputs": [
    {
     "name": "stdout",
     "output_type": "stream",
     "text": [
      "Available base models: ['models/chat-bison-001', 'models/text-bison-001', 'models/embedding-gecko-001', 'models/gemini-1.0-pro-latest', 'models/gemini-1.0-pro', 'models/gemini-pro', 'models/gemini-1.0-pro-001', 'models/gemini-1.0-pro-vision-latest', 'models/gemini-pro-vision', 'models/gemini-1.5-pro-latest', 'models/gemini-1.5-pro-001', 'models/gemini-1.5-pro', 'models/gemini-1.5-pro-exp-0801', 'models/gemini-1.5-flash-latest', 'models/gemini-1.5-flash-001', 'models/gemini-1.5-flash', 'models/embedding-001', 'models/text-embedding-004', 'models/aqa']\n"
     ]
    }
   ],
   "source": [
    "print('Available base models:', [m.name for m in genai.list_models()])"
   ]
  },
  {
   "cell_type": "markdown",
   "metadata": {},
   "source": [
    "### Test Prompt engineering"
   ]
  },
  {
   "cell_type": "code",
   "execution_count": 4,
   "metadata": {},
   "outputs": [
    {
     "name": "stdout",
     "output_type": "stream",
     "text": [
      "## 詐騙分析報告\n",
      "\n",
      "**1. 摘要:**\n",
      "\n",
      "一名73歲陳姓老先生透過網路交友平台認識一名自稱在葉門的戰地女軍官Seo Garden，並以Line聯繫。這位「乾女兒」聲稱擁有500萬美金，希望匯款給陳先生，但要求他先到超商購買遊戲點數才能收到款項。\n",
      "\n",
      "**2. 詐騙可能性:**\n",
      "\n",
      "極高\n",
      "\n",
      "**3. 詐騙類型:**\n",
      "\n",
      "網路愛情詐騙，結合遊戲點數詐騙。\n",
      "\n",
      "**4. 分析原因:**\n",
      "\n",
      "* **虛假身份:** 自稱在葉門的戰地女軍官，並取名Seo Garden，極具不真實性，可能是假造身份。\n",
      "* **不合理要求:**  要求受害者購買遊戲點數才能收到款項，這是典型詐騙手法，目的是騙取金錢。\n",
      "* **不符合邏輯:**  一位戰地女軍官為何會透過網路交友，並擁有巨額資金，且需要透過遊戲點數才能匯款，此邏輯明顯不通。\n",
      "\n",
      "**5. 防範措施:**\n",
      "\n",
      "* **提高警覺:** 遇到網路交友，尤其是聲稱來自國外、有特殊背景或擁有巨額財產者，務必提高警覺。\n",
      "* **勿輕易相信:** 不要輕信陌生人提供的任何資訊，尤其是涉及金錢或投資的資訊。\n",
      "* **核實身份:**  可以透過網路搜尋或其他方式核實對方身份的真實性。\n",
      "* **勿進行任何金錢交易:**  任何要求你進行金錢交易或購買遊戲點數的請求，都是詐騙行為，請立即停止。\n",
      "\n",
      "**6. 結論:**\n",
      "\n",
      "此事件具有高度詐騙可能性，建議陳先生立即停止與該名女子聯繫，並向相關單位報案。切勿相信任何網路交友中涉及金錢的請求，避免成為詐騙受害者。\n",
      "\n"
     ]
    }
   ],
   "source": [
    "# Access your API key as an environment variable.\n",
    "genai.configure(api_key=gemini)\n",
    "# Choose a model that's appropriate for your use case.\n",
    "model = genai.GenerativeModel('gemini-1.5-flash')\n",
    "\n",
    "prompt = \"\"\"I need assistance in analyzing text for scam detection. \n",
    "    The response should include a structured analysis report which was divided into 6 parts: \n",
    "    giving a brief summary for given input text, indicating the likelihood of a scam \n",
    "    ,denoting which type of scam it is and analyzing the reason by point \n",
    "    ,giving some preventional advise and last give a simple conclusion.\n",
    "    Please ensure that the response follows the specified structure for ease of parsing and integration with the application.\n",
    "    You need to reply in traditional chinese in default.\n",
    "    input text: 一名73歲陳姓老先生透過網路交友，並用Line聯繫認識一名乾女兒，其身分是在葉門的戰地女軍官Seo Garden。乾女兒稱有一筆美金500萬元的資金，想要匯給陳姓老先生，但陳男必須先到超商購買遊戲點數，始可以收到該筆資金。\"\"\"\n",
    "\n",
    "response = model.generate_content(prompt)\n",
    "\n",
    "print(response.text)"
   ]
  },
  {
   "cell_type": "markdown",
   "metadata": {},
   "source": [
    "### test speech recognition"
   ]
  },
  {
   "cell_type": "code",
   "execution_count": 31,
   "metadata": {},
   "outputs": [
    {
     "name": "stdout",
     "output_type": "stream",
     "text": [
      "Manchester United\n"
     ]
    }
   ],
   "source": [
    "import speech_recognition as sr\n",
    "from pydub import AudioSegment\n",
    "import os\n",
    "path = './LA_E_1000989.flac'\n",
    "\n",
    "#轉檔\n",
    "AudioSegment.converter = './ffmpeg/ffmpeg/bin/ffmpeg.exe'\n",
    "sound = AudioSegment.from_file_using_temporary_files(path)\n",
    "path = os.path.splitext(path)[0]+'.wav'\n",
    "sound.export(path, format=\"wav\")\n",
    "\n",
    "#辨識\n",
    "r = sr.Recognizer()\n",
    "with sr.AudioFile(path) as source:\n",
    "    audio = r.record(source)\n",
    "text = r.recognize_google(audio)\n",
    "print(text)"
   ]
  },
  {
   "cell_type": "code",
   "execution_count": null,
   "metadata": {},
   "outputs": [],
   "source": []
  }
 ],
 "metadata": {
  "kernelspec": {
   "display_name": "pytorch",
   "language": "python",
   "name": "python3"
  },
  "language_info": {
   "codemirror_mode": {
    "name": "ipython",
    "version": 3
   },
   "file_extension": ".py",
   "mimetype": "text/x-python",
   "name": "python",
   "nbconvert_exporter": "python",
   "pygments_lexer": "ipython3",
   "version": "3.9.18"
  }
 },
 "nbformat": 4,
 "nbformat_minor": 2
}
